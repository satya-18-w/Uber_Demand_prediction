{
 "cells": [
  {
   "cell_type": "code",
   "execution_count": 3,
   "id": "bc541570",
   "metadata": {},
   "outputs": [],
   "source": [
    "import numpy as np\n",
    "import pandas as pd\n",
    "import matplotlib.pyplot as plt\n",
    "import seaborn as sns\n",
    "import dask.dataframe as dd"
   ]
  },
  {
   "cell_type": "code",
   "execution_count": 7,
   "metadata": {},
   "outputs": [],
   "source": [
    "df_jan_path = \"../data/raw/yellow_tripdata_2016-01.csv\"\n",
    "df_feb_path = \"../data/raw/yellow_tripdata_2016-02.csv\"\n",
    "df_mar_path = \"../data/raw/yellow_tripdata_2016-03.csv\"\n",
    "\n",
    "# load the dataframes\n",
    "\n",
    "df_jan = dd.read_csv(df_jan_path, assume_missing=True,usecols=['trip_distance', 'tpep_pickup_datetime', 'pickup_longitude',\n",
    "       'pickup_latitude','dropoff_longitude', 'dropoff_latitude', 'fare_amount'],parse_dates=[\"tpep_pickup_datetime\"])\n",
    "df_feb = dd.read_csv(df_feb_path, assume_missing=True,usecols=['trip_distance', 'tpep_pickup_datetime', 'pickup_longitude',\n",
    "       'pickup_latitude','dropoff_longitude', 'dropoff_latitude', 'fare_amount'],parse_dates=[\"tpep_pickup_datetime\"])\n",
    "df_mar = dd.read_csv(df_mar_path, assume_missing=True,usecols=['trip_distance', 'tpep_pickup_datetime', 'pickup_longitude',\n",
    "       'pickup_latitude','dropoff_longitude', 'dropoff_latitude', 'fare_amount'],parse_dates=[\"tpep_pickup_datetime\"])"
   ]
  },
  {
   "cell_type": "code",
   "execution_count": 8,
   "metadata": {},
   "outputs": [],
   "source": [
    "df=dd.concat([df_jan,df_feb,df_mar],axis=0)"
   ]
  },
  {
   "cell_type": "code",
   "execution_count": 9,
   "metadata": {},
   "outputs": [
    {
     "data": {
      "text/html": [
       "<div><strong>Dask DataFrame Structure:</strong></div>\n",
       "<table border=\"1\" class=\"dataframe\">\n",
       "  <thead>\n",
       "    <tr style=\"text-align: right;\">\n",
       "      <th></th>\n",
       "      <th>tpep_pickup_datetime</th>\n",
       "      <th>trip_distance</th>\n",
       "      <th>pickup_longitude</th>\n",
       "      <th>pickup_latitude</th>\n",
       "      <th>dropoff_longitude</th>\n",
       "      <th>dropoff_latitude</th>\n",
       "      <th>fare_amount</th>\n",
       "    </tr>\n",
       "    <tr>\n",
       "      <th>npartitions=82</th>\n",
       "      <th></th>\n",
       "      <th></th>\n",
       "      <th></th>\n",
       "      <th></th>\n",
       "      <th></th>\n",
       "      <th></th>\n",
       "      <th></th>\n",
       "    </tr>\n",
       "  </thead>\n",
       "  <tbody>\n",
       "    <tr>\n",
       "      <th></th>\n",
       "      <td>datetime64[ns]</td>\n",
       "      <td>float64</td>\n",
       "      <td>float64</td>\n",
       "      <td>float64</td>\n",
       "      <td>float64</td>\n",
       "      <td>float64</td>\n",
       "      <td>float64</td>\n",
       "    </tr>\n",
       "    <tr>\n",
       "      <th></th>\n",
       "      <td>...</td>\n",
       "      <td>...</td>\n",
       "      <td>...</td>\n",
       "      <td>...</td>\n",
       "      <td>...</td>\n",
       "      <td>...</td>\n",
       "      <td>...</td>\n",
       "    </tr>\n",
       "    <tr>\n",
       "      <th>...</th>\n",
       "      <td>...</td>\n",
       "      <td>...</td>\n",
       "      <td>...</td>\n",
       "      <td>...</td>\n",
       "      <td>...</td>\n",
       "      <td>...</td>\n",
       "      <td>...</td>\n",
       "    </tr>\n",
       "    <tr>\n",
       "      <th></th>\n",
       "      <td>...</td>\n",
       "      <td>...</td>\n",
       "      <td>...</td>\n",
       "      <td>...</td>\n",
       "      <td>...</td>\n",
       "      <td>...</td>\n",
       "      <td>...</td>\n",
       "    </tr>\n",
       "    <tr>\n",
       "      <th></th>\n",
       "      <td>...</td>\n",
       "      <td>...</td>\n",
       "      <td>...</td>\n",
       "      <td>...</td>\n",
       "      <td>...</td>\n",
       "      <td>...</td>\n",
       "      <td>...</td>\n",
       "    </tr>\n",
       "  </tbody>\n",
       "</table>\n",
       "<div>Dask Name: concat, 7 expressions</div>"
      ],
      "text/plain": [
       "Dask DataFrame Structure:\n",
       "               tpep_pickup_datetime trip_distance pickup_longitude pickup_latitude dropoff_longitude dropoff_latitude fare_amount\n",
       "npartitions=82                                                                                                                   \n",
       "                     datetime64[ns]       float64          float64         float64           float64          float64     float64\n",
       "                                ...           ...              ...             ...               ...              ...         ...\n",
       "...                             ...           ...              ...             ...               ...              ...         ...\n",
       "                                ...           ...              ...             ...               ...              ...         ...\n",
       "                                ...           ...              ...             ...               ...              ...         ...\n",
       "Dask Name: concat, 7 expressions\n",
       "Expr=Concat(frames=[ArrowStringConversion(frame=FromMapProjectable(11e8c37)), ArrowStringConversion(frame=FromMapProjectable(32e8090)), ArrowStringConversion(frame=FromMapProjectable(f6e5df3))], )"
      ]
     },
     "execution_count": 9,
     "metadata": {},
     "output_type": "execute_result"
    }
   ],
   "source": [
    "df"
   ]
  },
  {
   "cell_type": "code",
   "execution_count": 27,
   "id": "458bce58",
   "metadata": {},
   "outputs": [],
   "source": [
    "min_latitude = 40.60\n",
    "max_latitude = 40.85\n",
    "\n",
    "min_longitude = -74.05\n",
    "max_longitude = -73.70\n",
    "\n",
    "min_fare_amount_val = 0.50\n",
    "max_fare_amount_val = 81.0\n",
    "\n",
    "min_trip_distance_val = 0.25\n",
    "max_trip_distance_val = 24.43"
   ]
  },
  {
   "cell_type": "code",
   "execution_count": 28,
   "id": "d6060e93",
   "metadata": {},
   "outputs": [],
   "source": [
    "df = df.loc[(df[\"pickup_latitude\"].between(min_latitude, max_latitude, inclusive=\"both\")) & \n",
    "(df[\"pickup_longitude\"].between(min_longitude, max_longitude, inclusive=\"both\")) & \n",
    "(df[\"dropoff_latitude\"].between(min_latitude, max_latitude, inclusive=\"both\")) & \n",
    "(df[\"dropoff_longitude\"].between(min_longitude, max_longitude, inclusive=\"both\")), :]"
   ]
  },
  {
   "cell_type": "code",
   "execution_count": null,
   "metadata": {},
   "outputs": [],
   "source": []
  },
  {
   "cell_type": "code",
   "execution_count": 11,
   "metadata": {},
   "outputs": [],
   "source": [
    "data_path = \"../data/interim/location_data.csv\""
   ]
  },
  {
   "cell_type": "code",
   "execution_count": 13,
   "metadata": {},
   "outputs": [],
   "source": [
    "df_reader = pd.read_csv(data_path, chunksize=100000, usecols=[\"pickup_latitude\",\"pickup_longitude\"])"
   ]
  },
  {
   "cell_type": "code",
   "execution_count": 29,
   "id": "54c9ad24",
   "metadata": {},
   "outputs": [],
   "source": [
    "df = df.loc[(df[\"fare_amount\"].between(min_fare_amount_val,max_fare_amount_val,inclusive=\"both\")) & \n",
    "(df[\"trip_distance\"].between(min_trip_distance_val,max_trip_distance_val,inclusive=\"both\"))]"
   ]
  },
  {
   "cell_type": "code",
   "execution_count": 30,
   "id": "8aad08b6",
   "metadata": {},
   "outputs": [
    {
     "data": {
      "text/html": [
       "<div>\n",
       "<style scoped>\n",
       "    .dataframe tbody tr th:only-of-type {\n",
       "        vertical-align: middle;\n",
       "    }\n",
       "\n",
       "    .dataframe tbody tr th {\n",
       "        vertical-align: top;\n",
       "    }\n",
       "\n",
       "    .dataframe thead th {\n",
       "        text-align: right;\n",
       "    }\n",
       "</style>\n",
       "<table border=\"1\" class=\"dataframe\">\n",
       "  <thead>\n",
       "    <tr style=\"text-align: right;\">\n",
       "      <th></th>\n",
       "      <th>tpep_pickup_datetime</th>\n",
       "      <th>trip_distance</th>\n",
       "      <th>pickup_longitude</th>\n",
       "      <th>pickup_latitude</th>\n",
       "      <th>dropoff_longitude</th>\n",
       "      <th>dropoff_latitude</th>\n",
       "      <th>fare_amount</th>\n",
       "    </tr>\n",
       "  </thead>\n",
       "  <tbody>\n",
       "    <tr>\n",
       "      <th>0</th>\n",
       "      <td>2016-01-01</td>\n",
       "      <td>1.10</td>\n",
       "      <td>-73.990372</td>\n",
       "      <td>40.734695</td>\n",
       "      <td>-73.981842</td>\n",
       "      <td>40.732407</td>\n",
       "      <td>7.5</td>\n",
       "    </tr>\n",
       "    <tr>\n",
       "      <th>1</th>\n",
       "      <td>2016-01-01</td>\n",
       "      <td>4.90</td>\n",
       "      <td>-73.980782</td>\n",
       "      <td>40.729912</td>\n",
       "      <td>-73.944473</td>\n",
       "      <td>40.716679</td>\n",
       "      <td>18.0</td>\n",
       "    </tr>\n",
       "    <tr>\n",
       "      <th>2</th>\n",
       "      <td>2016-01-01</td>\n",
       "      <td>10.54</td>\n",
       "      <td>-73.984550</td>\n",
       "      <td>40.679565</td>\n",
       "      <td>-73.950272</td>\n",
       "      <td>40.788925</td>\n",
       "      <td>33.0</td>\n",
       "    </tr>\n",
       "    <tr>\n",
       "      <th>3</th>\n",
       "      <td>2016-01-01</td>\n",
       "      <td>4.75</td>\n",
       "      <td>-73.993469</td>\n",
       "      <td>40.718990</td>\n",
       "      <td>-73.962242</td>\n",
       "      <td>40.657333</td>\n",
       "      <td>16.5</td>\n",
       "    </tr>\n",
       "    <tr>\n",
       "      <th>4</th>\n",
       "      <td>2016-01-01</td>\n",
       "      <td>1.76</td>\n",
       "      <td>-73.960625</td>\n",
       "      <td>40.781330</td>\n",
       "      <td>-73.977264</td>\n",
       "      <td>40.758514</td>\n",
       "      <td>8.0</td>\n",
       "    </tr>\n",
       "  </tbody>\n",
       "</table>\n",
       "</div>"
      ],
      "text/plain": [
       "  tpep_pickup_datetime  trip_distance  pickup_longitude  pickup_latitude  \\\n",
       "0           2016-01-01           1.10        -73.990372        40.734695   \n",
       "1           2016-01-01           4.90        -73.980782        40.729912   \n",
       "2           2016-01-01          10.54        -73.984550        40.679565   \n",
       "3           2016-01-01           4.75        -73.993469        40.718990   \n",
       "4           2016-01-01           1.76        -73.960625        40.781330   \n",
       "\n",
       "   dropoff_longitude  dropoff_latitude  fare_amount  \n",
       "0         -73.981842         40.732407          7.5  \n",
       "1         -73.944473         40.716679         18.0  \n",
       "2         -73.950272         40.788925         33.0  \n",
       "3         -73.962242         40.657333         16.5  \n",
       "4         -73.977264         40.758514          8.0  "
      ]
     },
     "execution_count": 30,
     "metadata": {},
     "output_type": "execute_result"
    }
   ],
   "source": [
    "df.head()"
   ]
  },
  {
   "cell_type": "code",
   "execution_count": 32,
   "id": "8218b984",
   "metadata": {},
   "outputs": [
    {
     "data": {
      "text/html": [
       "<div>\n",
       "<style scoped>\n",
       "    .dataframe tbody tr th:only-of-type {\n",
       "        vertical-align: middle;\n",
       "    }\n",
       "\n",
       "    .dataframe tbody tr th {\n",
       "        vertical-align: top;\n",
       "    }\n",
       "\n",
       "    .dataframe thead th {\n",
       "        text-align: right;\n",
       "    }\n",
       "</style>\n",
       "<table border=\"1\" class=\"dataframe\">\n",
       "  <thead>\n",
       "    <tr style=\"text-align: right;\">\n",
       "      <th></th>\n",
       "      <th>tpep_pickup_datetime</th>\n",
       "      <th>pickup_longitude</th>\n",
       "      <th>pickup_latitude</th>\n",
       "    </tr>\n",
       "  </thead>\n",
       "  <tbody>\n",
       "    <tr>\n",
       "      <th>0</th>\n",
       "      <td>2016-01-01</td>\n",
       "      <td>-73.990372</td>\n",
       "      <td>40.734695</td>\n",
       "    </tr>\n",
       "    <tr>\n",
       "      <th>1</th>\n",
       "      <td>2016-01-01</td>\n",
       "      <td>-73.980782</td>\n",
       "      <td>40.729912</td>\n",
       "    </tr>\n",
       "    <tr>\n",
       "      <th>2</th>\n",
       "      <td>2016-01-01</td>\n",
       "      <td>-73.984550</td>\n",
       "      <td>40.679565</td>\n",
       "    </tr>\n",
       "    <tr>\n",
       "      <th>3</th>\n",
       "      <td>2016-01-01</td>\n",
       "      <td>-73.993469</td>\n",
       "      <td>40.718990</td>\n",
       "    </tr>\n",
       "    <tr>\n",
       "      <th>4</th>\n",
       "      <td>2016-01-01</td>\n",
       "      <td>-73.960625</td>\n",
       "      <td>40.781330</td>\n",
       "    </tr>\n",
       "  </tbody>\n",
       "</table>\n",
       "</div>"
      ],
      "text/plain": [
       "  tpep_pickup_datetime  pickup_longitude  pickup_latitude\n",
       "0           2016-01-01        -73.990372        40.734695\n",
       "1           2016-01-01        -73.980782        40.729912\n",
       "2           2016-01-01        -73.984550        40.679565\n",
       "3           2016-01-01        -73.993469        40.718990\n",
       "4           2016-01-01        -73.960625        40.781330"
      ]
     },
     "execution_count": 32,
     "metadata": {},
     "output_type": "execute_result"
    }
   ],
   "source": [
    "df.head()"
   ]
  },
  {
   "cell_type": "code",
   "execution_count": 31,
   "id": "e5d02ab2",
   "metadata": {},
   "outputs": [],
   "source": [
    "df=df.drop(columns=[\"trip_distance\",\"fare_amount\",\"dropoff_longitude\",\"dropoff_latitude\"])"
   ]
  },
  {
   "cell_type": "code",
   "execution_count": 1,
   "metadata": {},
   "outputs": [],
   "source": [
    "from sklearn.preprocessing import StandardScaler\n",
    "from sklearn.cluster import MiniBatchKMeans"
   ]
  },
  {
   "cell_type": "code",
   "execution_count": 17,
   "metadata": {},
   "outputs": [],
   "source": [
    "scaler=StandardScaler()\n",
    "mini_batch=MiniBatchKMeans(n_clusters=30,n_init=10,random_state=42)"
   ]
  },
  {
   "cell_type": "code",
   "execution_count": 18,
   "metadata": {},
   "outputs": [],
   "source": [
    "for chunk in df_reader:\n",
    "    scaler.partial_fit(chunk)\n",
    "    \n",
    "   \n",
    "    "
   ]
  },
  {
   "cell_type": "code",
   "execution_count": 19,
   "metadata": {},
   "outputs": [
    {
     "data": {
      "text/plain": [
       "array([ 40.75107121, -73.9740618 ])"
      ]
     },
     "execution_count": 19,
     "metadata": {},
     "output_type": "execute_result"
    }
   ],
   "source": [
    "scaler.mean_"
   ]
  },
  {
   "cell_type": "code",
   "execution_count": 20,
   "id": "78f42aed",
   "metadata": {},
   "outputs": [],
   "source": [
    "df_reader = pd.read_csv(data_path, chunksize=100000, usecols=[\"pickup_latitude\",\"pickup_longitude\"])"
   ]
  },
  {
   "cell_type": "code",
   "execution_count": 21,
   "id": "f2af70b8",
   "metadata": {},
   "outputs": [],
   "source": [
    "\n",
    "for chunk in df_reader:\n",
    "    scaled_chunk=scaler.transform(chunk)\n",
    "    mini_batch.partial_fit(scaled_chunk)\n",
    "    \n",
    "   "
   ]
  },
  {
   "cell_type": "code",
   "execution_count": 23,
   "id": "255396ed",
   "metadata": {},
   "outputs": [],
   "source": [
    "dfs=dd.read_csv(data_path)"
   ]
  },
  {
   "cell_type": "code",
   "execution_count": 35,
   "id": "575eff88",
   "metadata": {},
   "outputs": [
    {
     "data": {
      "text/html": [
       "<div>\n",
       "<style scoped>\n",
       "    .dataframe tbody tr th:only-of-type {\n",
       "        vertical-align: middle;\n",
       "    }\n",
       "\n",
       "    .dataframe tbody tr th {\n",
       "        vertical-align: top;\n",
       "    }\n",
       "\n",
       "    .dataframe thead th {\n",
       "        text-align: right;\n",
       "    }\n",
       "</style>\n",
       "<table border=\"1\" class=\"dataframe\">\n",
       "  <thead>\n",
       "    <tr style=\"text-align: right;\">\n",
       "      <th></th>\n",
       "      <th>pickup_latitude</th>\n",
       "      <th>pickup_longitude</th>\n",
       "    </tr>\n",
       "  </thead>\n",
       "  <tbody>\n",
       "    <tr>\n",
       "      <th>0</th>\n",
       "      <td>40.734695</td>\n",
       "      <td>-73.990372</td>\n",
       "    </tr>\n",
       "    <tr>\n",
       "      <th>1</th>\n",
       "      <td>40.729912</td>\n",
       "      <td>-73.980782</td>\n",
       "    </tr>\n",
       "    <tr>\n",
       "      <th>2</th>\n",
       "      <td>40.679565</td>\n",
       "      <td>-73.984550</td>\n",
       "    </tr>\n",
       "    <tr>\n",
       "      <th>3</th>\n",
       "      <td>40.718990</td>\n",
       "      <td>-73.993469</td>\n",
       "    </tr>\n",
       "    <tr>\n",
       "      <th>4</th>\n",
       "      <td>40.781330</td>\n",
       "      <td>-73.960625</td>\n",
       "    </tr>\n",
       "    <tr>\n",
       "      <th>5</th>\n",
       "      <td>40.743050</td>\n",
       "      <td>-73.980118</td>\n",
       "    </tr>\n",
       "    <tr>\n",
       "      <th>6</th>\n",
       "      <td>40.719990</td>\n",
       "      <td>-73.994057</td>\n",
       "    </tr>\n",
       "    <tr>\n",
       "      <th>7</th>\n",
       "      <td>40.744614</td>\n",
       "      <td>-73.979424</td>\n",
       "    </tr>\n",
       "    <tr>\n",
       "      <th>8</th>\n",
       "      <td>40.723896</td>\n",
       "      <td>-73.998344</td>\n",
       "    </tr>\n",
       "    <tr>\n",
       "      <th>9</th>\n",
       "      <td>40.744919</td>\n",
       "      <td>-74.006149</td>\n",
       "    </tr>\n",
       "  </tbody>\n",
       "</table>\n",
       "</div>"
      ],
      "text/plain": [
       "   pickup_latitude  pickup_longitude\n",
       "0        40.734695        -73.990372\n",
       "1        40.729912        -73.980782\n",
       "2        40.679565        -73.984550\n",
       "3        40.718990        -73.993469\n",
       "4        40.781330        -73.960625\n",
       "5        40.743050        -73.980118\n",
       "6        40.719990        -73.994057\n",
       "7        40.744614        -73.979424\n",
       "8        40.723896        -73.998344\n",
       "9        40.744919        -74.006149"
      ]
     },
     "execution_count": 35,
     "metadata": {},
     "output_type": "execute_result"
    }
   ],
   "source": [
    "dfs.head(10)"
   ]
  },
  {
   "cell_type": "code",
   "execution_count": 38,
   "id": "151e8ab6",
   "metadata": {},
   "outputs": [
    {
     "data": {
      "text/html": [
       "<div>\n",
       "<style scoped>\n",
       "    .dataframe tbody tr th:only-of-type {\n",
       "        vertical-align: middle;\n",
       "    }\n",
       "\n",
       "    .dataframe tbody tr th {\n",
       "        vertical-align: top;\n",
       "    }\n",
       "\n",
       "    .dataframe thead th {\n",
       "        text-align: right;\n",
       "    }\n",
       "</style>\n",
       "<table border=\"1\" class=\"dataframe\">\n",
       "  <thead>\n",
       "    <tr style=\"text-align: right;\">\n",
       "      <th></th>\n",
       "      <th>pickup_latitude</th>\n",
       "      <th>pickup_longitude</th>\n",
       "    </tr>\n",
       "  </thead>\n",
       "  <tbody>\n",
       "    <tr>\n",
       "      <th>1749143</th>\n",
       "      <td>40.641743</td>\n",
       "      <td>-73.789223</td>\n",
       "    </tr>\n",
       "    <tr>\n",
       "      <th>1749144</th>\n",
       "      <td>40.760170</td>\n",
       "      <td>-73.967552</td>\n",
       "    </tr>\n",
       "    <tr>\n",
       "      <th>1749145</th>\n",
       "      <td>40.748898</td>\n",
       "      <td>-73.937790</td>\n",
       "    </tr>\n",
       "    <tr>\n",
       "      <th>1749146</th>\n",
       "      <td>40.646561</td>\n",
       "      <td>-73.790436</td>\n",
       "    </tr>\n",
       "    <tr>\n",
       "      <th>1749147</th>\n",
       "      <td>40.761150</td>\n",
       "      <td>-73.986847</td>\n",
       "    </tr>\n",
       "    <tr>\n",
       "      <th>1749148</th>\n",
       "      <td>40.644451</td>\n",
       "      <td>-73.790565</td>\n",
       "    </tr>\n",
       "    <tr>\n",
       "      <th>1749149</th>\n",
       "      <td>40.641483</td>\n",
       "      <td>-73.788055</td>\n",
       "    </tr>\n",
       "    <tr>\n",
       "      <th>1749150</th>\n",
       "      <td>40.646736</td>\n",
       "      <td>-73.789154</td>\n",
       "    </tr>\n",
       "    <tr>\n",
       "      <th>1749151</th>\n",
       "      <td>40.774471</td>\n",
       "      <td>-73.977356</td>\n",
       "    </tr>\n",
       "    <tr>\n",
       "      <th>1749152</th>\n",
       "      <td>40.645096</td>\n",
       "      <td>-73.798485</td>\n",
       "    </tr>\n",
       "  </tbody>\n",
       "</table>\n",
       "</div>"
      ],
      "text/plain": [
       "         pickup_latitude  pickup_longitude\n",
       "1749143        40.641743        -73.789223\n",
       "1749144        40.760170        -73.967552\n",
       "1749145        40.748898        -73.937790\n",
       "1749146        40.646561        -73.790436\n",
       "1749147        40.761150        -73.986847\n",
       "1749148        40.644451        -73.790565\n",
       "1749149        40.641483        -73.788055\n",
       "1749150        40.646736        -73.789154\n",
       "1749151        40.774471        -73.977356\n",
       "1749152        40.645096        -73.798485"
      ]
     },
     "execution_count": 38,
     "metadata": {},
     "output_type": "execute_result"
    }
   ],
   "source": [
    "dfs.tail(10)"
   ]
  },
  {
   "cell_type": "code",
   "execution_count": 43,
   "id": "75442cbc",
   "metadata": {},
   "outputs": [
    {
     "data": {
      "text/html": [
       "<div>\n",
       "<style scoped>\n",
       "    .dataframe tbody tr th:only-of-type {\n",
       "        vertical-align: middle;\n",
       "    }\n",
       "\n",
       "    .dataframe tbody tr th {\n",
       "        vertical-align: top;\n",
       "    }\n",
       "\n",
       "    .dataframe thead th {\n",
       "        text-align: right;\n",
       "    }\n",
       "</style>\n",
       "<table border=\"1\" class=\"dataframe\">\n",
       "  <thead>\n",
       "    <tr style=\"text-align: right;\">\n",
       "      <th></th>\n",
       "      <th>tpep_pickup_datetime</th>\n",
       "      <th>pickup_longitude</th>\n",
       "      <th>pickup_latitude</th>\n",
       "    </tr>\n",
       "  </thead>\n",
       "  <tbody>\n",
       "    <tr>\n",
       "      <th>0</th>\n",
       "      <td>2016-01-01 00:00:00</td>\n",
       "      <td>-73.990372</td>\n",
       "      <td>40.734695</td>\n",
       "    </tr>\n",
       "    <tr>\n",
       "      <th>1</th>\n",
       "      <td>2016-01-01 00:00:00</td>\n",
       "      <td>-73.980782</td>\n",
       "      <td>40.729912</td>\n",
       "    </tr>\n",
       "    <tr>\n",
       "      <th>2</th>\n",
       "      <td>2016-01-01 00:00:00</td>\n",
       "      <td>-73.984550</td>\n",
       "      <td>40.679565</td>\n",
       "    </tr>\n",
       "    <tr>\n",
       "      <th>3</th>\n",
       "      <td>2016-01-01 00:00:00</td>\n",
       "      <td>-73.993469</td>\n",
       "      <td>40.718990</td>\n",
       "    </tr>\n",
       "    <tr>\n",
       "      <th>4</th>\n",
       "      <td>2016-01-01 00:00:00</td>\n",
       "      <td>-73.960625</td>\n",
       "      <td>40.781330</td>\n",
       "    </tr>\n",
       "    <tr>\n",
       "      <th>5</th>\n",
       "      <td>2016-01-01 00:00:00</td>\n",
       "      <td>-73.980118</td>\n",
       "      <td>40.743050</td>\n",
       "    </tr>\n",
       "    <tr>\n",
       "      <th>6</th>\n",
       "      <td>2016-01-01 00:00:00</td>\n",
       "      <td>-73.994057</td>\n",
       "      <td>40.719990</td>\n",
       "    </tr>\n",
       "    <tr>\n",
       "      <th>7</th>\n",
       "      <td>2016-01-01 00:00:01</td>\n",
       "      <td>-73.979424</td>\n",
       "      <td>40.744614</td>\n",
       "    </tr>\n",
       "    <tr>\n",
       "      <th>9</th>\n",
       "      <td>2016-01-01 00:00:02</td>\n",
       "      <td>-73.998344</td>\n",
       "      <td>40.723896</td>\n",
       "    </tr>\n",
       "    <tr>\n",
       "      <th>10</th>\n",
       "      <td>2016-01-01 00:00:03</td>\n",
       "      <td>-74.006149</td>\n",
       "      <td>40.744919</td>\n",
       "    </tr>\n",
       "  </tbody>\n",
       "</table>\n",
       "</div>"
      ],
      "text/plain": [
       "   tpep_pickup_datetime  pickup_longitude  pickup_latitude\n",
       "0   2016-01-01 00:00:00        -73.990372        40.734695\n",
       "1   2016-01-01 00:00:00        -73.980782        40.729912\n",
       "2   2016-01-01 00:00:00        -73.984550        40.679565\n",
       "3   2016-01-01 00:00:00        -73.993469        40.718990\n",
       "4   2016-01-01 00:00:00        -73.960625        40.781330\n",
       "5   2016-01-01 00:00:00        -73.980118        40.743050\n",
       "6   2016-01-01 00:00:00        -73.994057        40.719990\n",
       "7   2016-01-01 00:00:01        -73.979424        40.744614\n",
       "9   2016-01-01 00:00:02        -73.998344        40.723896\n",
       "10  2016-01-01 00:00:03        -74.006149        40.744919"
      ]
     },
     "execution_count": 43,
     "metadata": {},
     "output_type": "execute_result"
    }
   ],
   "source": [
    "df.head(10)"
   ]
  },
  {
   "cell_type": "code",
   "execution_count": 45,
   "metadata": {},
   "outputs": [],
   "source": [
    "location_subset=df[[\"pickup_latitude\",\"pickup_longitude\"]]"
   ]
  },
  {
   "cell_type": "code",
   "execution_count": null,
   "metadata": {},
   "outputs": [
    {
     "data": {
      "text/html": [
       "<div>\n",
       "<style scoped>\n",
       "    .dataframe tbody tr th:only-of-type {\n",
       "        vertical-align: middle;\n",
       "    }\n",
       "\n",
       "    .dataframe tbody tr th {\n",
       "        vertical-align: top;\n",
       "    }\n",
       "\n",
       "    .dataframe thead th {\n",
       "        text-align: right;\n",
       "    }\n",
       "</style>\n",
       "<table border=\"1\" class=\"dataframe\">\n",
       "  <thead>\n",
       "    <tr style=\"text-align: right;\">\n",
       "      <th></th>\n",
       "      <th>pickup_latitude</th>\n",
       "      <th>pickup_longitude</th>\n",
       "    </tr>\n",
       "  </thead>\n",
       "  <tbody>\n",
       "    <tr>\n",
       "      <th>0</th>\n",
       "      <td>40.734695</td>\n",
       "      <td>-73.990372</td>\n",
       "    </tr>\n",
       "    <tr>\n",
       "      <th>1</th>\n",
       "      <td>40.729912</td>\n",
       "      <td>-73.980782</td>\n",
       "    </tr>\n",
       "    <tr>\n",
       "      <th>2</th>\n",
       "      <td>40.679565</td>\n",
       "      <td>-73.984550</td>\n",
       "    </tr>\n",
       "    <tr>\n",
       "      <th>3</th>\n",
       "      <td>40.718990</td>\n",
       "      <td>-73.993469</td>\n",
       "    </tr>\n",
       "    <tr>\n",
       "      <th>4</th>\n",
       "      <td>40.781330</td>\n",
       "      <td>-73.960625</td>\n",
       "    </tr>\n",
       "    <tr>\n",
       "      <th>5</th>\n",
       "      <td>40.743050</td>\n",
       "      <td>-73.980118</td>\n",
       "    </tr>\n",
       "    <tr>\n",
       "      <th>6</th>\n",
       "      <td>40.719990</td>\n",
       "      <td>-73.994057</td>\n",
       "    </tr>\n",
       "    <tr>\n",
       "      <th>7</th>\n",
       "      <td>40.744614</td>\n",
       "      <td>-73.979424</td>\n",
       "    </tr>\n",
       "    <tr>\n",
       "      <th>9</th>\n",
       "      <td>40.723896</td>\n",
       "      <td>-73.998344</td>\n",
       "    </tr>\n",
       "    <tr>\n",
       "      <th>10</th>\n",
       "      <td>40.744919</td>\n",
       "      <td>-74.006149</td>\n",
       "    </tr>\n",
       "  </tbody>\n",
       "</table>\n",
       "</div>"
      ],
      "text/plain": [
       "    pickup_latitude  pickup_longitude\n",
       "0         40.734695        -73.990372\n",
       "1         40.729912        -73.980782\n",
       "2         40.679565        -73.984550\n",
       "3         40.718990        -73.993469\n",
       "4         40.781330        -73.960625\n",
       "5         40.743050        -73.980118\n",
       "6         40.719990        -73.994057\n",
       "7         40.744614        -73.979424\n",
       "9         40.723896        -73.998344\n",
       "10        40.744919        -74.006149"
      ]
     },
     "execution_count": 46,
     "metadata": {},
     "output_type": "execute_result"
    }
   ],
   "source": [
    "location_subset.head(10) "
   ]
  },
  {
   "cell_type": "code",
   "execution_count": 47,
   "metadata": {},
   "outputs": [],
   "source": [
    "scaled_location_subset=scaler.transform(location_subset)"
   ]
  },
  {
   "cell_type": "code",
   "execution_count": 54,
   "metadata": {},
   "outputs": [],
   "source": [
    "reg=mini_batch.predict(scaled_location_subset)"
   ]
  },
  {
   "cell_type": "code",
   "execution_count": 56,
   "id": "d512efe2",
   "metadata": {},
   "outputs": [
    {
     "data": {
      "text/plain": [
       "numpy.ndarray"
      ]
     },
     "execution_count": 56,
     "metadata": {},
     "output_type": "execute_result"
    }
   ],
   "source": [
    "type(reg)"
   ]
  },
  {
   "cell_type": "code",
   "execution_count": 55,
   "id": "f22f42bb",
   "metadata": {},
   "outputs": [
    {
     "data": {
      "text/plain": [
       "(33234199,)"
      ]
     },
     "execution_count": 55,
     "metadata": {},
     "output_type": "execute_result"
    }
   ],
   "source": [
    "reg.shape"
   ]
  },
  {
   "cell_type": "code",
   "execution_count": 51,
   "id": "4dd5922d",
   "metadata": {},
   "outputs": [],
   "source": [
    "from sklearn import set_config"
   ]
  },
  {
   "cell_type": "code",
   "execution_count": 53,
   "metadata": {},
   "outputs": [],
   "source": [
    "set_config(transform_output=\"pandas\")"
   ]
  },
  {
   "cell_type": "code",
   "execution_count": 59,
   "id": "b3e096a5",
   "metadata": {},
   "outputs": [],
   "source": [
    "reg=pd.DataFrame(reg)"
   ]
  },
  {
   "cell_type": "code",
   "execution_count": 60,
   "id": "6be8feaa",
   "metadata": {},
   "outputs": [
    {
     "data": {
      "text/html": [
       "<div>\n",
       "<style scoped>\n",
       "    .dataframe tbody tr th:only-of-type {\n",
       "        vertical-align: middle;\n",
       "    }\n",
       "\n",
       "    .dataframe tbody tr th {\n",
       "        vertical-align: top;\n",
       "    }\n",
       "\n",
       "    .dataframe thead th {\n",
       "        text-align: right;\n",
       "    }\n",
       "</style>\n",
       "<table border=\"1\" class=\"dataframe\">\n",
       "  <thead>\n",
       "    <tr style=\"text-align: right;\">\n",
       "      <th></th>\n",
       "      <th>0</th>\n",
       "    </tr>\n",
       "  </thead>\n",
       "  <tbody>\n",
       "    <tr>\n",
       "      <th>0</th>\n",
       "      <td>7</td>\n",
       "    </tr>\n",
       "    <tr>\n",
       "      <th>1</th>\n",
       "      <td>26</td>\n",
       "    </tr>\n",
       "    <tr>\n",
       "      <th>2</th>\n",
       "      <td>9</td>\n",
       "    </tr>\n",
       "    <tr>\n",
       "      <th>3</th>\n",
       "      <td>10</td>\n",
       "    </tr>\n",
       "    <tr>\n",
       "      <th>4</th>\n",
       "      <td>8</td>\n",
       "    </tr>\n",
       "    <tr>\n",
       "      <th>...</th>\n",
       "      <td>...</td>\n",
       "    </tr>\n",
       "    <tr>\n",
       "      <th>33234194</th>\n",
       "      <td>3</td>\n",
       "    </tr>\n",
       "    <tr>\n",
       "      <th>33234195</th>\n",
       "      <td>3</td>\n",
       "    </tr>\n",
       "    <tr>\n",
       "      <th>33234196</th>\n",
       "      <td>3</td>\n",
       "    </tr>\n",
       "    <tr>\n",
       "      <th>33234197</th>\n",
       "      <td>19</td>\n",
       "    </tr>\n",
       "    <tr>\n",
       "      <th>33234198</th>\n",
       "      <td>3</td>\n",
       "    </tr>\n",
       "  </tbody>\n",
       "</table>\n",
       "<p>33234199 rows × 1 columns</p>\n",
       "</div>"
      ],
      "text/plain": [
       "           0\n",
       "0          7\n",
       "1         26\n",
       "2          9\n",
       "3         10\n",
       "4          8\n",
       "...       ..\n",
       "33234194   3\n",
       "33234195   3\n",
       "33234196   3\n",
       "33234197  19\n",
       "33234198   3\n",
       "\n",
       "[33234199 rows x 1 columns]"
      ]
     },
     "execution_count": 60,
     "metadata": {},
     "output_type": "execute_result"
    }
   ],
   "source": [
    "reg"
   ]
  },
  {
   "cell_type": "code",
   "execution_count": 62,
   "id": "9f2097fa",
   "metadata": {},
   "outputs": [
    {
     "data": {
      "text/html": [
       "<div><strong>Dask DataFrame Structure:</strong></div>\n",
       "<table border=\"1\" class=\"dataframe\">\n",
       "  <thead>\n",
       "    <tr style=\"text-align: right;\">\n",
       "      <th></th>\n",
       "      <th>tpep_pickup_datetime</th>\n",
       "      <th>pickup_longitude</th>\n",
       "      <th>pickup_latitude</th>\n",
       "    </tr>\n",
       "    <tr>\n",
       "      <th>npartitions=82</th>\n",
       "      <th></th>\n",
       "      <th></th>\n",
       "      <th></th>\n",
       "    </tr>\n",
       "  </thead>\n",
       "  <tbody>\n",
       "    <tr>\n",
       "      <th></th>\n",
       "      <td>datetime64[ns]</td>\n",
       "      <td>float64</td>\n",
       "      <td>float64</td>\n",
       "    </tr>\n",
       "    <tr>\n",
       "      <th></th>\n",
       "      <td>...</td>\n",
       "      <td>...</td>\n",
       "      <td>...</td>\n",
       "    </tr>\n",
       "    <tr>\n",
       "      <th>...</th>\n",
       "      <td>...</td>\n",
       "      <td>...</td>\n",
       "      <td>...</td>\n",
       "    </tr>\n",
       "    <tr>\n",
       "      <th></th>\n",
       "      <td>...</td>\n",
       "      <td>...</td>\n",
       "      <td>...</td>\n",
       "    </tr>\n",
       "    <tr>\n",
       "      <th></th>\n",
       "      <td>...</td>\n",
       "      <td>...</td>\n",
       "      <td>...</td>\n",
       "    </tr>\n",
       "  </tbody>\n",
       "</table>\n",
       "<div>Dask Name: drop_by_shallow_copy, 27 expressions</div>"
      ],
      "text/plain": [
       "Dask DataFrame Structure:\n",
       "               tpep_pickup_datetime pickup_longitude pickup_latitude\n",
       "npartitions=82                                                      \n",
       "                     datetime64[ns]          float64         float64\n",
       "                                ...              ...             ...\n",
       "...                             ...              ...             ...\n",
       "                                ...              ...             ...\n",
       "                                ...              ...             ...\n",
       "Dask Name: drop_by_shallow_copy, 27 expressions\n",
       "Expr=Drop(frame=Loc(frame=Loc(frame=(Concat(frames=[ArrowStringConversion(frame=FromMapProjectable(11e8c37)), ArrowStringConversion(frame=FromMapProjectable(32e8090)), ArrowStringConversion(frame=FromMapProjectable(f6e5df3))], ))[['tpep_pickup_datetime', 'trip_distance', 'pickup_longitude', 'pickup_latitude', 'dropoff_longitude', 'dropoff_latitude', 'fare_amount']], iindexer=Between(frame=(Concat(frames=[ArrowStringConversion(frame=FromMapProjectable(11e8c37)), ArrowStringConversion(frame=FromMapProjectable(32e8090)), ArrowStringConversion(frame=FromMapProjectable(f6e5df3))], ))['pickup_latitude'], left=40.6, right=40.85) & Between(frame=(Concat(frames=[ArrowStringConversion(frame=FromMapProjectable(11e8c37)), ArrowStringConversion(frame=FromMapProjectable(32e8090)), ArrowStringConversion(frame=FromMapProjectable(f6e5df3))], ))['pickup_longitude'], left=-74.05, right=-73.7) & Between(frame=(Concat(frames=[ArrowStringConversion(frame=FromMapProjectable(11e8c37)), ArrowStringConversion(frame=FromMapProjectable(32e8090)), ArrowStringConversion(frame=FromMapProjectable(f6e5df3))], ))['dropoff_latitude'], left=40.6, right=40.85) & Between(frame=(Concat(frames=[ArrowStringConversion(frame=FromMapProjectable(11e8c37)), ArrowStringConversion(frame=FromMapProjectable(32e8090)), ArrowStringConversion(frame=FromMapProjectable(f6e5df3))], ))['dropoff_longitude'], left=-74.05, right=-73.7)), iindexer=Between(frame=(Loc(frame=(Concat(frames=[ArrowStringConversion(frame=FromMapProjectable(11e8c37)), ArrowStringConversion(frame=FromMapProjectable(32e8090)), ArrowStringConversion(frame=FromMapProjectable(f6e5df3))], ))[['tpep_pickup_datetime', 'trip_distance', 'pickup_longitude', 'pickup_latitude', 'dropoff_longitude', 'dropoff_latitude', 'fare_amount']], iindexer=Between(frame=(Concat(frames=[ArrowStringConversion(frame=FromMapProjectable(11e8c37)), ArrowStringConversion(frame=FromMapProjectable(32e8090)), ArrowStringConversion(frame=FromMapProjectable(f6e5df3))], ))['pickup_latitude'], left=40.6, right=40.85) & Between(frame=(Concat(frames=[ArrowStringConversion(frame=FromMapProjectable(11e8c37)), ArrowStringConversion(frame=FromMapProjectable(32e8090)), ArrowStringConversion(frame=FromMapProjectable(f6e5df3))], ))['pickup_longitude'], left=-74.05, right=-73.7) & Between(frame=(Concat(frames=[ArrowStringConversion(frame=FromMapProjectable(11e8c37)), ArrowStringConversion(frame=FromMapProjectable(32e8090)), ArrowStringConversion(frame=FromMapProjectable(f6e5df3))], ))['dropoff_latitude'], left=40.6, right=40.85) & Between(frame=(Concat(frames=[ArrowStringConversion(frame=FromMapProjectable(11e8c37)), ArrowStringConversion(frame=FromMapProjectable(32e8090)), ArrowStringConversion(frame=FromMapProjectable(f6e5df3))], ))['dropoff_longitude'], left=-74.05, right=-73.7)))['fare_amount'], left=0.5, right=81.0) & Between(frame=(Loc(frame=(Concat(frames=[ArrowStringConversion(frame=FromMapProjectable(11e8c37)), ArrowStringConversion(frame=FromMapProjectable(32e8090)), ArrowStringConversion(frame=FromMapProjectable(f6e5df3))], ))[['tpep_pickup_datetime', 'trip_distance', 'pickup_longitude', 'pickup_latitude', 'dropoff_longitude', 'dropoff_latitude', 'fare_amount']], iindexer=Between(frame=(Concat(frames=[ArrowStringConversion(frame=FromMapProjectable(11e8c37)), ArrowStringConversion(frame=FromMapProjectable(32e8090)), ArrowStringConversion(frame=FromMapProjectable(f6e5df3))], ))['pickup_latitude'], left=40.6, right=40.85) & Between(frame=(Concat(frames=[ArrowStringConversion(frame=FromMapProjectable(11e8c37)), ArrowStringConversion(frame=FromMapProjectable(32e8090)), ArrowStringConversion(frame=FromMapProjectable(f6e5df3))], ))['pickup_longitude'], left=-74.05, right=-73.7) & Between(frame=(Concat(frames=[ArrowStringConversion(frame=FromMapProjectable(11e8c37)), ArrowStringConversion(frame=FromMapProjectable(32e8090)), ArrowStringConversion(frame=FromMapProjectable(f6e5df3))], ))['dropoff_latitude'], left=40.6, right=40.85) & Between(frame=(Concat(frames=[ArrowStringConversion(frame=FromMapProjectable(11e8c37)), ArrowStringConversion(frame=FromMapProjectable(32e8090)), ArrowStringConversion(frame=FromMapProjectable(f6e5df3))], ))['dropoff_longitude'], left=-74.05, right=-73.7)))['trip_distance'], left=0.25, right=24.43)), columns=['trip_distance', 'fare_amount', 'dropoff_longitude', 'dropoff_latitude'])"
      ]
     },
     "execution_count": 62,
     "metadata": {},
     "output_type": "execute_result"
    }
   ],
   "source": [
    "df"
   ]
  },
  {
   "cell_type": "code",
   "execution_count": 69,
   "id": "66e5d6fc",
   "metadata": {},
   "outputs": [
    {
     "data": {
      "text/plain": [
       "pandas.core.frame.DataFrame"
      ]
     },
     "execution_count": 69,
     "metadata": {},
     "output_type": "execute_result"
    }
   ],
   "source": [
    "type(reg)"
   ]
  },
  {
   "cell_type": "code",
   "execution_count": 72,
   "id": "5ba58e03",
   "metadata": {},
   "outputs": [],
   "source": [
    "df=df.assign(Region=reg[0])"
   ]
  },
  {
   "cell_type": "code",
   "execution_count": 73,
   "metadata": {},
   "outputs": [
    {
     "data": {
      "text/html": [
       "<div>\n",
       "<style scoped>\n",
       "    .dataframe tbody tr th:only-of-type {\n",
       "        vertical-align: middle;\n",
       "    }\n",
       "\n",
       "    .dataframe tbody tr th {\n",
       "        vertical-align: top;\n",
       "    }\n",
       "\n",
       "    .dataframe thead th {\n",
       "        text-align: right;\n",
       "    }\n",
       "</style>\n",
       "<table border=\"1\" class=\"dataframe\">\n",
       "  <thead>\n",
       "    <tr style=\"text-align: right;\">\n",
       "      <th></th>\n",
       "      <th>tpep_pickup_datetime</th>\n",
       "      <th>pickup_longitude</th>\n",
       "      <th>pickup_latitude</th>\n",
       "      <th>Region</th>\n",
       "    </tr>\n",
       "  </thead>\n",
       "  <tbody>\n",
       "    <tr>\n",
       "      <th>13</th>\n",
       "      <td>2016-02-08 15:53:52</td>\n",
       "      <td>-73.976135</td>\n",
       "      <td>40.776302</td>\n",
       "      <td>19</td>\n",
       "    </tr>\n",
       "    <tr>\n",
       "      <th>43</th>\n",
       "      <td>2016-02-08 15:53:58</td>\n",
       "      <td>-73.968178</td>\n",
       "      <td>40.787212</td>\n",
       "      <td>11</td>\n",
       "    </tr>\n",
       "    <tr>\n",
       "      <th>53</th>\n",
       "      <td>2016-02-08 15:53:59</td>\n",
       "      <td>-73.870712</td>\n",
       "      <td>40.773788</td>\n",
       "      <td>1</td>\n",
       "    </tr>\n",
       "    <tr>\n",
       "      <th>462</th>\n",
       "      <td>2016-02-08 15:55:30</td>\n",
       "      <td>-73.983017</td>\n",
       "      <td>40.756241</td>\n",
       "      <td>11</td>\n",
       "    </tr>\n",
       "    <tr>\n",
       "      <th>541</th>\n",
       "      <td>2016-02-08 15:55:50</td>\n",
       "      <td>-73.960060</td>\n",
       "      <td>40.773586</td>\n",
       "      <td>21</td>\n",
       "    </tr>\n",
       "    <tr>\n",
       "      <th>562</th>\n",
       "      <td>2016-02-08 15:55:55</td>\n",
       "      <td>-73.863930</td>\n",
       "      <td>40.769978</td>\n",
       "      <td>27</td>\n",
       "    </tr>\n",
       "    <tr>\n",
       "      <th>808</th>\n",
       "      <td>2016-02-08 15:56:49</td>\n",
       "      <td>-73.964279</td>\n",
       "      <td>40.767914</td>\n",
       "      <td>8</td>\n",
       "    </tr>\n",
       "    <tr>\n",
       "      <th>950</th>\n",
       "      <td>2016-02-08 15:57:20</td>\n",
       "      <td>-73.990555</td>\n",
       "      <td>40.756882</td>\n",
       "      <td>15</td>\n",
       "    </tr>\n",
       "    <tr>\n",
       "      <th>1046</th>\n",
       "      <td>2016-02-08 15:57:39</td>\n",
       "      <td>-73.990440</td>\n",
       "      <td>40.765732</td>\n",
       "      <td>1</td>\n",
       "    </tr>\n",
       "    <tr>\n",
       "      <th>1182</th>\n",
       "      <td>2016-02-08 15:58:08</td>\n",
       "      <td>-73.956100</td>\n",
       "      <td>40.781288</td>\n",
       "      <td>22</td>\n",
       "    </tr>\n",
       "  </tbody>\n",
       "</table>\n",
       "</div>"
      ],
      "text/plain": [
       "     tpep_pickup_datetime  pickup_longitude  pickup_latitude  Region\n",
       "13    2016-02-08 15:53:52        -73.976135        40.776302      19\n",
       "43    2016-02-08 15:53:58        -73.968178        40.787212      11\n",
       "53    2016-02-08 15:53:59        -73.870712        40.773788       1\n",
       "462   2016-02-08 15:55:30        -73.983017        40.756241      11\n",
       "541   2016-02-08 15:55:50        -73.960060        40.773586      21\n",
       "562   2016-02-08 15:55:55        -73.863930        40.769978      27\n",
       "808   2016-02-08 15:56:49        -73.964279        40.767914       8\n",
       "950   2016-02-08 15:57:20        -73.990555        40.756882      15\n",
       "1046  2016-02-08 15:57:39        -73.990440        40.765732       1\n",
       "1182  2016-02-08 15:58:08        -73.956100        40.781288      22"
      ]
     },
     "execution_count": 73,
     "metadata": {},
     "output_type": "execute_result"
    }
   ],
   "source": [
    "df.head(10)"
   ]
  },
  {
   "cell_type": "markdown",
   "id": "a7f1efd0",
   "metadata": {},
   "source": [
    "## Analysing the TimeSeries data"
   ]
  },
  {
   "cell_type": "code",
   "execution_count": 74,
   "id": "4ae2653f",
   "metadata": {},
   "outputs": [],
   "source": [
    "time_series_data=df.drop(columns=[\"pickup_longitude\",\"pickup_latitude\"])"
   ]
  },
  {
   "cell_type": "code",
   "execution_count": 79,
   "id": "be413d28",
   "metadata": {},
   "outputs": [],
   "source": [
    "time_series_data=time_series_data.compute()"
   ]
  },
  {
   "cell_type": "code",
   "execution_count": 81,
   "id": "f58e903b",
   "metadata": {},
   "outputs": [],
   "source": [
    "save_path = \"../data/interim/time_series.csv\"\n",
    "\n",
    "time_series_data.to_csv(save_path, index=False)"
   ]
  },
  {
   "cell_type": "code",
   "execution_count": 2,
   "id": "0b5592a4",
   "metadata": {},
   "outputs": [],
   "source": [
    "time_series_path = \"../data/interim/time_series.csv\""
   ]
  },
  {
   "cell_type": "code",
   "execution_count": 3,
   "id": "ff595f56",
   "metadata": {},
   "outputs": [],
   "source": [
    "import numpy as np\n",
    "import pandas as pd\n",
    "import matplotlib.pyplot as plt\n",
    "import seaborn as sns\n",
    "import dask.dataframe as dd"
   ]
  },
  {
   "cell_type": "code",
   "execution_count": 18,
   "id": "9dffb2fd",
   "metadata": {},
   "outputs": [],
   "source": [
    "time_series_data=pd.read_csv(time_series_path,parse_dates=[\"tpep_pickup_datetime\"])"
   ]
  },
  {
   "cell_type": "code",
   "execution_count": 19,
   "id": "ee81c129",
   "metadata": {},
   "outputs": [],
   "source": [
    "time_series_data.set_index(\"tpep_pickup_datetime\",inplace=True)"
   ]
  },
  {
   "cell_type": "code",
   "execution_count": 15,
   "id": "921c2a27",
   "metadata": {},
   "outputs": [
    {
     "data": {
      "text/html": [
       "<div>\n",
       "<style scoped>\n",
       "    .dataframe tbody tr th:only-of-type {\n",
       "        vertical-align: middle;\n",
       "    }\n",
       "\n",
       "    .dataframe tbody tr th {\n",
       "        vertical-align: top;\n",
       "    }\n",
       "\n",
       "    .dataframe thead th {\n",
       "        text-align: right;\n",
       "    }\n",
       "</style>\n",
       "<table border=\"1\" class=\"dataframe\">\n",
       "  <thead>\n",
       "    <tr style=\"text-align: right;\">\n",
       "      <th></th>\n",
       "      <th>Region</th>\n",
       "    </tr>\n",
       "    <tr>\n",
       "      <th>tpep_pickup_datetime</th>\n",
       "      <th></th>\n",
       "    </tr>\n",
       "  </thead>\n",
       "  <tbody>\n",
       "    <tr>\n",
       "      <th>2016-01-10 19:00:07</th>\n",
       "      <td>19</td>\n",
       "    </tr>\n",
       "    <tr>\n",
       "      <th>2016-01-10 19:00:22</th>\n",
       "      <td>11</td>\n",
       "    </tr>\n",
       "    <tr>\n",
       "      <th>2016-01-10 19:00:24</th>\n",
       "      <td>1</td>\n",
       "    </tr>\n",
       "    <tr>\n",
       "      <th>2016-01-10 19:03:31</th>\n",
       "      <td>11</td>\n",
       "    </tr>\n",
       "    <tr>\n",
       "      <th>2016-01-10 19:04:10</th>\n",
       "      <td>21</td>\n",
       "    </tr>\n",
       "    <tr>\n",
       "      <th>...</th>\n",
       "      <td>...</td>\n",
       "    </tr>\n",
       "    <tr>\n",
       "      <th>2016-02-01 01:30:57</th>\n",
       "      <td>14</td>\n",
       "    </tr>\n",
       "    <tr>\n",
       "      <th>2016-02-01 01:32:21</th>\n",
       "      <td>22</td>\n",
       "    </tr>\n",
       "    <tr>\n",
       "      <th>2016-02-01 01:33:11</th>\n",
       "      <td>27</td>\n",
       "    </tr>\n",
       "    <tr>\n",
       "      <th>2016-02-01 01:36:43</th>\n",
       "      <td>25</td>\n",
       "    </tr>\n",
       "    <tr>\n",
       "      <th>2016-02-01 01:37:02</th>\n",
       "      <td>18</td>\n",
       "    </tr>\n",
       "  </tbody>\n",
       "</table>\n",
       "<p>33234199 rows × 1 columns</p>\n",
       "</div>"
      ],
      "text/plain": [
       "                      Region\n",
       "tpep_pickup_datetime        \n",
       "2016-01-10 19:00:07       19\n",
       "2016-01-10 19:00:22       11\n",
       "2016-01-10 19:00:24        1\n",
       "2016-01-10 19:03:31       11\n",
       "2016-01-10 19:04:10       21\n",
       "...                      ...\n",
       "2016-02-01 01:30:57       14\n",
       "2016-02-01 01:32:21       22\n",
       "2016-02-01 01:33:11       27\n",
       "2016-02-01 01:36:43       25\n",
       "2016-02-01 01:37:02       18\n",
       "\n",
       "[33234199 rows x 1 columns]"
      ]
     },
     "execution_count": 15,
     "metadata": {},
     "output_type": "execute_result"
    }
   ],
   "source": [
    "time_series_data"
   ]
  },
  {
   "cell_type": "code",
   "execution_count": 16,
   "id": "de7d9bf3",
   "metadata": {},
   "outputs": [
    {
     "data": {
      "text/plain": [
       "DatetimeIndex(['2016-01-10 19:00:07', '2016-01-10 19:00:22',\n",
       "               '2016-01-10 19:00:24', '2016-01-10 19:03:31',\n",
       "               '2016-01-10 19:04:10', '2016-01-10 19:04:22',\n",
       "               '2016-01-10 19:06:11', '2016-01-10 19:07:36',\n",
       "               '2016-01-10 19:08:18', '2016-01-10 19:09:23',\n",
       "               ...\n",
       "               '2016-02-01 01:29:14', '2016-02-01 01:30:07',\n",
       "               '2016-02-01 01:30:38', '2016-02-01 01:30:47',\n",
       "               '2016-02-01 01:30:52', '2016-02-01 01:30:57',\n",
       "               '2016-02-01 01:32:21', '2016-02-01 01:33:11',\n",
       "               '2016-02-01 01:36:43', '2016-02-01 01:37:02'],\n",
       "              dtype='datetime64[ns]', name='tpep_pickup_datetime', length=33234199, freq=None)"
      ]
     },
     "execution_count": 16,
     "metadata": {},
     "output_type": "execute_result"
    }
   ],
   "source": [
    "time_series_data.index"
   ]
  },
  {
   "cell_type": "code",
   "execution_count": 17,
   "id": "9bab698b",
   "metadata": {},
   "outputs": [
    {
     "data": {
      "text/html": [
       "<div>\n",
       "<style scoped>\n",
       "    .dataframe tbody tr th:only-of-type {\n",
       "        vertical-align: middle;\n",
       "    }\n",
       "\n",
       "    .dataframe tbody tr th {\n",
       "        vertical-align: top;\n",
       "    }\n",
       "\n",
       "    .dataframe thead th {\n",
       "        text-align: right;\n",
       "    }\n",
       "</style>\n",
       "<table border=\"1\" class=\"dataframe\">\n",
       "  <thead>\n",
       "    <tr style=\"text-align: right;\">\n",
       "      <th></th>\n",
       "      <th>Region</th>\n",
       "    </tr>\n",
       "    <tr>\n",
       "      <th>tpep_pickup_datetime</th>\n",
       "      <th></th>\n",
       "    </tr>\n",
       "  </thead>\n",
       "  <tbody>\n",
       "    <tr>\n",
       "      <th>2016-01-01 00:00:00</th>\n",
       "      <td>3927</td>\n",
       "    </tr>\n",
       "    <tr>\n",
       "      <th>2016-01-01 00:15:00</th>\n",
       "      <td>6460</td>\n",
       "    </tr>\n",
       "    <tr>\n",
       "      <th>2016-01-01 00:30:00</th>\n",
       "      <td>6755</td>\n",
       "    </tr>\n",
       "    <tr>\n",
       "      <th>2016-01-01 00:45:00</th>\n",
       "      <td>6906</td>\n",
       "    </tr>\n",
       "    <tr>\n",
       "      <th>2016-01-01 01:00:00</th>\n",
       "      <td>6963</td>\n",
       "    </tr>\n",
       "    <tr>\n",
       "      <th>...</th>\n",
       "      <td>...</td>\n",
       "    </tr>\n",
       "    <tr>\n",
       "      <th>2016-03-31 22:45:00</th>\n",
       "      <td>5731</td>\n",
       "    </tr>\n",
       "    <tr>\n",
       "      <th>2016-03-31 23:00:00</th>\n",
       "      <td>5664</td>\n",
       "    </tr>\n",
       "    <tr>\n",
       "      <th>2016-03-31 23:15:00</th>\n",
       "      <td>5395</td>\n",
       "    </tr>\n",
       "    <tr>\n",
       "      <th>2016-03-31 23:30:00</th>\n",
       "      <td>5044</td>\n",
       "    </tr>\n",
       "    <tr>\n",
       "      <th>2016-03-31 23:45:00</th>\n",
       "      <td>4606</td>\n",
       "    </tr>\n",
       "  </tbody>\n",
       "</table>\n",
       "<p>8736 rows × 1 columns</p>\n",
       "</div>"
      ],
      "text/plain": [
       "                      Region\n",
       "tpep_pickup_datetime        \n",
       "2016-01-01 00:00:00     3927\n",
       "2016-01-01 00:15:00     6460\n",
       "2016-01-01 00:30:00     6755\n",
       "2016-01-01 00:45:00     6906\n",
       "2016-01-01 01:00:00     6963\n",
       "...                      ...\n",
       "2016-03-31 22:45:00     5731\n",
       "2016-03-31 23:00:00     5664\n",
       "2016-03-31 23:15:00     5395\n",
       "2016-03-31 23:30:00     5044\n",
       "2016-03-31 23:45:00     4606\n",
       "\n",
       "[8736 rows x 1 columns]"
      ]
     },
     "execution_count": 17,
     "metadata": {},
     "output_type": "execute_result"
    }
   ],
   "source": [
    "time_series_data.resample(\"15min\").count()"
   ]
  },
  {
   "cell_type": "code",
   "execution_count": 20,
   "id": "b2d4436b",
   "metadata": {},
   "outputs": [],
   "source": [
    "reg_grp=time_series_data.groupby(\"Region\")"
   ]
  },
  {
   "cell_type": "code",
   "execution_count": 21,
   "id": "3c9b6c12",
   "metadata": {},
   "outputs": [],
   "source": [
    "resampl_data=reg_grp['Region'].resample(\"15min\").count()"
   ]
  },
  {
   "cell_type": "code",
   "execution_count": 22,
   "id": "968b1581",
   "metadata": {},
   "outputs": [],
   "source": [
    "resampl_data.name=\"Pickups\""
   ]
  },
  {
   "cell_type": "code",
   "execution_count": 23,
   "id": "5b9c13cb",
   "metadata": {},
   "outputs": [],
   "source": [
    "resample_data=resampl_data.reset_index(level=0)"
   ]
  },
  {
   "cell_type": "code",
   "execution_count": 24,
   "id": "07861154",
   "metadata": {},
   "outputs": [
    {
     "data": {
      "text/html": [
       "<div>\n",
       "<style scoped>\n",
       "    .dataframe tbody tr th:only-of-type {\n",
       "        vertical-align: middle;\n",
       "    }\n",
       "\n",
       "    .dataframe tbody tr th {\n",
       "        vertical-align: top;\n",
       "    }\n",
       "\n",
       "    .dataframe thead th {\n",
       "        text-align: right;\n",
       "    }\n",
       "</style>\n",
       "<table border=\"1\" class=\"dataframe\">\n",
       "  <thead>\n",
       "    <tr style=\"text-align: right;\">\n",
       "      <th></th>\n",
       "      <th>Region</th>\n",
       "      <th>Pickups</th>\n",
       "    </tr>\n",
       "    <tr>\n",
       "      <th>tpep_pickup_datetime</th>\n",
       "      <th></th>\n",
       "      <th></th>\n",
       "    </tr>\n",
       "  </thead>\n",
       "  <tbody>\n",
       "    <tr>\n",
       "      <th>2016-01-01 00:00:00</th>\n",
       "      <td>0</td>\n",
       "      <td>57</td>\n",
       "    </tr>\n",
       "    <tr>\n",
       "      <th>2016-01-01 00:15:00</th>\n",
       "      <td>0</td>\n",
       "      <td>113</td>\n",
       "    </tr>\n",
       "    <tr>\n",
       "      <th>2016-01-01 00:30:00</th>\n",
       "      <td>0</td>\n",
       "      <td>146</td>\n",
       "    </tr>\n",
       "    <tr>\n",
       "      <th>2016-01-01 00:45:00</th>\n",
       "      <td>0</td>\n",
       "      <td>162</td>\n",
       "    </tr>\n",
       "    <tr>\n",
       "      <th>2016-01-01 01:00:00</th>\n",
       "      <td>0</td>\n",
       "      <td>182</td>\n",
       "    </tr>\n",
       "    <tr>\n",
       "      <th>...</th>\n",
       "      <td>...</td>\n",
       "      <td>...</td>\n",
       "    </tr>\n",
       "    <tr>\n",
       "      <th>2016-03-31 22:45:00</th>\n",
       "      <td>29</td>\n",
       "      <td>13</td>\n",
       "    </tr>\n",
       "    <tr>\n",
       "      <th>2016-03-31 23:00:00</th>\n",
       "      <td>29</td>\n",
       "      <td>43</td>\n",
       "    </tr>\n",
       "    <tr>\n",
       "      <th>2016-03-31 23:15:00</th>\n",
       "      <td>29</td>\n",
       "      <td>24</td>\n",
       "    </tr>\n",
       "    <tr>\n",
       "      <th>2016-03-31 23:30:00</th>\n",
       "      <td>29</td>\n",
       "      <td>12</td>\n",
       "    </tr>\n",
       "    <tr>\n",
       "      <th>2016-03-31 23:45:00</th>\n",
       "      <td>29</td>\n",
       "      <td>23</td>\n",
       "    </tr>\n",
       "  </tbody>\n",
       "</table>\n",
       "<p>262080 rows × 2 columns</p>\n",
       "</div>"
      ],
      "text/plain": [
       "                      Region  Pickups\n",
       "tpep_pickup_datetime                 \n",
       "2016-01-01 00:00:00        0       57\n",
       "2016-01-01 00:15:00        0      113\n",
       "2016-01-01 00:30:00        0      146\n",
       "2016-01-01 00:45:00        0      162\n",
       "2016-01-01 01:00:00        0      182\n",
       "...                      ...      ...\n",
       "2016-03-31 22:45:00       29       13\n",
       "2016-03-31 23:00:00       29       43\n",
       "2016-03-31 23:15:00       29       24\n",
       "2016-03-31 23:30:00       29       12\n",
       "2016-03-31 23:45:00       29       23\n",
       "\n",
       "[262080 rows x 2 columns]"
      ]
     },
     "execution_count": 24,
     "metadata": {},
     "output_type": "execute_result"
    }
   ],
   "source": [
    "resample_data"
   ]
  },
  {
   "cell_type": "code",
   "execution_count": 98,
   "id": "40278606",
   "metadata": {},
   "outputs": [
    {
     "data": {
      "text/html": [
       "<div>\n",
       "<style scoped>\n",
       "    .dataframe tbody tr th:only-of-type {\n",
       "        vertical-align: middle;\n",
       "    }\n",
       "\n",
       "    .dataframe tbody tr th {\n",
       "        vertical-align: top;\n",
       "    }\n",
       "\n",
       "    .dataframe thead th {\n",
       "        text-align: right;\n",
       "    }\n",
       "</style>\n",
       "<table border=\"1\" class=\"dataframe\">\n",
       "  <thead>\n",
       "    <tr style=\"text-align: right;\">\n",
       "      <th></th>\n",
       "      <th>Region</th>\n",
       "      <th>Pickups</th>\n",
       "    </tr>\n",
       "    <tr>\n",
       "      <th>tpep_pickup_datetime</th>\n",
       "      <th></th>\n",
       "      <th></th>\n",
       "    </tr>\n",
       "  </thead>\n",
       "  <tbody>\n",
       "    <tr>\n",
       "      <th>2016-01-12 04:15:00</th>\n",
       "      <td>0</td>\n",
       "      <td>0</td>\n",
       "    </tr>\n",
       "    <tr>\n",
       "      <th>2016-01-23 15:15:00</th>\n",
       "      <td>0</td>\n",
       "      <td>0</td>\n",
       "    </tr>\n",
       "    <tr>\n",
       "      <th>2016-01-23 15:45:00</th>\n",
       "      <td>0</td>\n",
       "      <td>0</td>\n",
       "    </tr>\n",
       "    <tr>\n",
       "      <th>2016-01-23 16:45:00</th>\n",
       "      <td>0</td>\n",
       "      <td>0</td>\n",
       "    </tr>\n",
       "    <tr>\n",
       "      <th>2016-01-23 17:00:00</th>\n",
       "      <td>0</td>\n",
       "      <td>0</td>\n",
       "    </tr>\n",
       "    <tr>\n",
       "      <th>...</th>\n",
       "      <td>...</td>\n",
       "      <td>...</td>\n",
       "    </tr>\n",
       "    <tr>\n",
       "      <th>2016-03-15 04:00:00</th>\n",
       "      <td>29</td>\n",
       "      <td>0</td>\n",
       "    </tr>\n",
       "    <tr>\n",
       "      <th>2016-03-17 04:45:00</th>\n",
       "      <td>29</td>\n",
       "      <td>0</td>\n",
       "    </tr>\n",
       "    <tr>\n",
       "      <th>2016-03-27 05:15:00</th>\n",
       "      <td>29</td>\n",
       "      <td>0</td>\n",
       "    </tr>\n",
       "    <tr>\n",
       "      <th>2016-03-27 05:30:00</th>\n",
       "      <td>29</td>\n",
       "      <td>0</td>\n",
       "    </tr>\n",
       "    <tr>\n",
       "      <th>2016-03-29 03:15:00</th>\n",
       "      <td>29</td>\n",
       "      <td>0</td>\n",
       "    </tr>\n",
       "  </tbody>\n",
       "</table>\n",
       "<p>2817 rows × 2 columns</p>\n",
       "</div>"
      ],
      "text/plain": [
       "                      Region  Pickups\n",
       "tpep_pickup_datetime                 \n",
       "2016-01-12 04:15:00        0        0\n",
       "2016-01-23 15:15:00        0        0\n",
       "2016-01-23 15:45:00        0        0\n",
       "2016-01-23 16:45:00        0        0\n",
       "2016-01-23 17:00:00        0        0\n",
       "...                      ...      ...\n",
       "2016-03-15 04:00:00       29        0\n",
       "2016-03-17 04:45:00       29        0\n",
       "2016-03-27 05:15:00       29        0\n",
       "2016-03-27 05:30:00       29        0\n",
       "2016-03-29 03:15:00       29        0\n",
       "\n",
       "[2817 rows x 2 columns]"
      ]
     },
     "execution_count": 98,
     "metadata": {},
     "output_type": "execute_result"
    }
   ],
   "source": [
    "resample_data[resample_data[\"Pickups\"] == 0]"
   ]
  },
  {
   "cell_type": "code",
   "execution_count": 25,
   "id": "a2cf2f23",
   "metadata": {},
   "outputs": [
    {
     "name": "stderr",
     "output_type": "stream",
     "text": [
      "C:\\Users\\Satyajit Samal\\AppData\\Local\\Temp\\ipykernel_26008\\4173565344.py:1: FutureWarning: A value is trying to be set on a copy of a DataFrame or Series through chained assignment using an inplace method.\n",
      "The behavior will change in pandas 3.0. This inplace method will never work because the intermediate object on which we are setting values always behaves as a copy.\n",
      "\n",
      "For example, when doing 'df[col].method(value, inplace=True)', try using 'df.method({col: value}, inplace=True)' or df[col] = df[col].method(value) instead, to perform the operation inplace on the original object.\n",
      "\n",
      "\n",
      "  resample_data[\"Pickups\"].replace({0:10},inplace=True)\n"
     ]
    }
   ],
   "source": [
    "resample_data[\"Pickups\"].replace({0:10},inplace=True)"
   ]
  },
  {
   "cell_type": "markdown",
   "id": "6deefe36",
   "metadata": {},
   "source": [
    "## Smoothing Timeseries data"
   ]
  },
  {
   "cell_type": "code",
   "execution_count": 26,
   "metadata": {},
   "outputs": [],
   "source": [
    "from sklearn.metrics import mean_absolute_percentage_error"
   ]
  },
  {
   "cell_type": "code",
   "execution_count": 101,
   "id": "3ffae32e",
   "metadata": {},
   "outputs": [
    {
     "data": {
      "text/plain": [
       "[3, 4, 5, 6, 7, 8, 9, 10]"
      ]
     },
     "execution_count": 101,
     "metadata": {},
     "output_type": "execute_result"
    }
   ],
   "source": [
    "window_values = list(range(3,11,1))\n",
    "window_values"
   ]
  },
  {
   "cell_type": "code",
   "execution_count": 104,
   "id": "bbeb66b8",
   "metadata": {},
   "outputs": [],
   "source": [
    "def calculate_best_window_value(windows):\n",
    "    for window in windows:\n",
    "        ind = window - 1\n",
    "        y_pred = resample_data['Pickups'].rolling(window=window).mean().values[ind:]\n",
    "        y = resample_data['Pickups'].values[ind:]\n",
    "        error = mean_absolute_percentage_error(y, y_pred)\n",
    "        print(f\"For window value {window}, the MAPE is {error:.2f}\")"
   ]
  },
  {
   "cell_type": "code",
   "execution_count": 105,
   "id": "f625607a",
   "metadata": {},
   "outputs": [
    {
     "name": "stdout",
     "output_type": "stream",
     "text": [
      "For window value 3, the MAPE is 0.22\n",
      "For window value 4, the MAPE is 0.28\n",
      "For window value 5, the MAPE is 0.33\n",
      "For window value 6, the MAPE is 0.37\n",
      "For window value 7, the MAPE is 0.42\n",
      "For window value 8, the MAPE is 0.46\n",
      "For window value 9, the MAPE is 0.50\n",
      "For window value 10, the MAPE is 0.54\n"
     ]
    }
   ],
   "source": [
    "calculate_best_window_value(window_values)"
   ]
  },
  {
   "cell_type": "markdown",
   "id": "8b19b47e",
   "metadata": {},
   "source": [
    "## Applying EWMA"
   ]
  },
  {
   "cell_type": "code",
   "execution_count": 108,
   "id": "489c3e97",
   "metadata": {},
   "outputs": [
    {
     "data": {
      "text/plain": [
       "tpep_pickup_datetime\n",
       "2016-01-01 00:00:00     57.000000\n",
       "2016-01-01 00:15:00     95.000000\n",
       "2016-01-01 00:30:00    125.034258\n",
       "2016-01-01 00:45:00    145.521332\n",
       "2016-01-01 01:00:00    165.189673\n",
       "                          ...    \n",
       "2016-03-31 22:45:00     17.433698\n",
       "2016-03-31 23:00:00     30.889646\n",
       "2016-03-31 23:15:00     27.263517\n",
       "2016-03-31 23:30:00     19.230087\n",
       "2016-03-31 23:45:00     21.214252\n",
       "Name: Pickups, Length: 262080, dtype: float64"
      ]
     },
     "execution_count": 108,
     "metadata": {},
     "output_type": "execute_result"
    }
   ],
   "source": [
    "resample_data[\"Pickups\"].ewm(0.9).mean()"
   ]
  },
  {
   "cell_type": "code",
   "execution_count": 27,
   "metadata": {},
   "outputs": [],
   "source": [
    "alphas=np.arange(0.1,1.0,0.1)"
   ]
  },
  {
   "cell_type": "code",
   "execution_count": 28,
   "id": "72ba0994",
   "metadata": {},
   "outputs": [
    {
     "data": {
      "text/plain": [
       "array([0.1, 0.2, 0.3, 0.4, 0.5, 0.6, 0.7, 0.8, 0.9])"
      ]
     },
     "execution_count": 28,
     "metadata": {},
     "output_type": "execute_result"
    }
   ],
   "source": [
    "alphas"
   ]
  },
  {
   "cell_type": "code",
   "execution_count": 29,
   "id": "b6807f86",
   "metadata": {},
   "outputs": [],
   "source": [
    "def calculating_ewm(alphas):\n",
    "    y=resample_data[\"Pickups\"]\n",
    "    for i in alphas:\n",
    "        y_pred=resample_data[\"Pickups\"].ewm(i).mean()\n",
    "        \n",
    "        mape=mean_absolute_percentage_error(y,y_pred)\n",
    "        print(f\"For alpha {i:.1f} MAPE :{mape:.2}\")"
   ]
  },
  {
   "cell_type": "code",
   "execution_count": 30,
   "metadata": {},
   "outputs": [
    {
     "name": "stdout",
     "output_type": "stream",
     "text": [
      "For alpha 0.1 MAPE :0.028\n",
      "For alpha 0.2 MAPE :0.052\n",
      "For alpha 0.3 MAPE :0.073\n",
      "For alpha 0.4 MAPE :0.091\n",
      "For alpha 0.5 MAPE :0.11\n",
      "For alpha 0.6 MAPE :0.12\n",
      "For alpha 0.7 MAPE :0.14\n",
      "For alpha 0.8 MAPE :0.15\n",
      "For alpha 0.9 MAPE :0.17\n"
     ]
    }
   ],
   "source": [
    "calculating_ewm(alphas)"
   ]
  },
  {
   "cell_type": "code",
   "execution_count": 32,
   "id": "c8d832db",
   "metadata": {},
   "outputs": [],
   "source": [
    "resample_data[\"Avg_pickups\"]=resample_data[\"Pickups\"].ewm(alpha=0.4).mean().round()"
   ]
  },
  {
   "cell_type": "code",
   "execution_count": 33,
   "id": "bcc8cd29",
   "metadata": {},
   "outputs": [
    {
     "data": {
      "text/html": [
       "<div>\n",
       "<style scoped>\n",
       "    .dataframe tbody tr th:only-of-type {\n",
       "        vertical-align: middle;\n",
       "    }\n",
       "\n",
       "    .dataframe tbody tr th {\n",
       "        vertical-align: top;\n",
       "    }\n",
       "\n",
       "    .dataframe thead th {\n",
       "        text-align: right;\n",
       "    }\n",
       "</style>\n",
       "<table border=\"1\" class=\"dataframe\">\n",
       "  <thead>\n",
       "    <tr style=\"text-align: right;\">\n",
       "      <th></th>\n",
       "      <th>Region</th>\n",
       "      <th>Pickups</th>\n",
       "      <th>Avg_pickups</th>\n",
       "    </tr>\n",
       "    <tr>\n",
       "      <th>tpep_pickup_datetime</th>\n",
       "      <th></th>\n",
       "      <th></th>\n",
       "      <th></th>\n",
       "    </tr>\n",
       "  </thead>\n",
       "  <tbody>\n",
       "    <tr>\n",
       "      <th>2016-01-01 00:00:00</th>\n",
       "      <td>0</td>\n",
       "      <td>57</td>\n",
       "      <td>57.0</td>\n",
       "    </tr>\n",
       "    <tr>\n",
       "      <th>2016-01-01 00:15:00</th>\n",
       "      <td>0</td>\n",
       "      <td>113</td>\n",
       "      <td>92.0</td>\n",
       "    </tr>\n",
       "    <tr>\n",
       "      <th>2016-01-01 00:30:00</th>\n",
       "      <td>0</td>\n",
       "      <td>146</td>\n",
       "      <td>120.0</td>\n",
       "    </tr>\n",
       "    <tr>\n",
       "      <th>2016-01-01 00:45:00</th>\n",
       "      <td>0</td>\n",
       "      <td>162</td>\n",
       "      <td>139.0</td>\n",
       "    </tr>\n",
       "    <tr>\n",
       "      <th>2016-01-01 01:00:00</th>\n",
       "      <td>0</td>\n",
       "      <td>182</td>\n",
       "      <td>158.0</td>\n",
       "    </tr>\n",
       "    <tr>\n",
       "      <th>...</th>\n",
       "      <td>...</td>\n",
       "      <td>...</td>\n",
       "      <td>...</td>\n",
       "    </tr>\n",
       "    <tr>\n",
       "      <th>2016-03-31 22:45:00</th>\n",
       "      <td>29</td>\n",
       "      <td>13</td>\n",
       "      <td>19.0</td>\n",
       "    </tr>\n",
       "    <tr>\n",
       "      <th>2016-03-31 23:00:00</th>\n",
       "      <td>29</td>\n",
       "      <td>43</td>\n",
       "      <td>29.0</td>\n",
       "    </tr>\n",
       "    <tr>\n",
       "      <th>2016-03-31 23:15:00</th>\n",
       "      <td>29</td>\n",
       "      <td>24</td>\n",
       "      <td>27.0</td>\n",
       "    </tr>\n",
       "    <tr>\n",
       "      <th>2016-03-31 23:30:00</th>\n",
       "      <td>29</td>\n",
       "      <td>12</td>\n",
       "      <td>21.0</td>\n",
       "    </tr>\n",
       "    <tr>\n",
       "      <th>2016-03-31 23:45:00</th>\n",
       "      <td>29</td>\n",
       "      <td>23</td>\n",
       "      <td>22.0</td>\n",
       "    </tr>\n",
       "  </tbody>\n",
       "</table>\n",
       "<p>262080 rows × 3 columns</p>\n",
       "</div>"
      ],
      "text/plain": [
       "                      Region  Pickups  Avg_pickups\n",
       "tpep_pickup_datetime                              \n",
       "2016-01-01 00:00:00        0       57         57.0\n",
       "2016-01-01 00:15:00        0      113         92.0\n",
       "2016-01-01 00:30:00        0      146        120.0\n",
       "2016-01-01 00:45:00        0      162        139.0\n",
       "2016-01-01 01:00:00        0      182        158.0\n",
       "...                      ...      ...          ...\n",
       "2016-03-31 22:45:00       29       13         19.0\n",
       "2016-03-31 23:00:00       29       43         29.0\n",
       "2016-03-31 23:15:00       29       24         27.0\n",
       "2016-03-31 23:30:00       29       12         21.0\n",
       "2016-03-31 23:45:00       29       23         22.0\n",
       "\n",
       "[262080 rows x 3 columns]"
      ]
     },
     "execution_count": 33,
     "metadata": {},
     "output_type": "execute_result"
    }
   ],
   "source": [
    "resample_data"
   ]
  },
  {
   "cell_type": "code",
   "execution_count": 34,
   "id": "f3c51000",
   "metadata": {},
   "outputs": [],
   "source": [
    "resample_data_path='../data/interim/final_data.csv'\n",
    "resample_data.to_csv(resample_data_path,index=True)"
   ]
  },
  {
   "cell_type": "code",
   "execution_count": null,
   "id": "1ef9ac2d",
   "metadata": {},
   "outputs": [],
   "source": []
  },
  {
   "cell_type": "code",
   "execution_count": null,
   "id": "911d19c3",
   "metadata": {},
   "outputs": [],
   "source": []
  },
  {
   "cell_type": "code",
   "execution_count": null,
   "metadata": {},
   "outputs": [],
   "source": []
  },
  {
   "cell_type": "code",
   "execution_count": null,
   "id": "990ab649",
   "metadata": {},
   "outputs": [],
   "source": []
  }
 ],
 "metadata": {
  "kernelspec": {
   "display_name": "Python 3",
   "language": "python",
   "name": "python3"
  },
  "language_info": {
   "codemirror_mode": {
    "name": "ipython",
    "version": 3
   },
   "file_extension": ".py",
   "mimetype": "text/x-python",
   "name": "python",
   "nbconvert_exporter": "python",
   "pygments_lexer": "ipython3",
   "version": "3.12.0"
  }
 },
 "nbformat": 4,
 "nbformat_minor": 5
}
